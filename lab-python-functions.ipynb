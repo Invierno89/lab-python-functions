{
 "cells": [
  {
   "cell_type": "markdown",
   "id": "25d7736c-ba17-4aff-b6bb-66eba20fbf4e",
   "metadata": {},
   "source": [
    "# Lab | Functions"
   ]
  },
  {
   "cell_type": "markdown",
   "id": "0c581062-8967-4d93-b06e-62833222f930",
   "metadata": {
    "tags": []
   },
   "source": [
    "## Exercise: Managing Customer Orders with Functions\n",
    "\n",
    "In the previous exercise, you improved the code for managing customer orders by using loops and flow control. Now, let's take it a step further and refactor the code by introducing functions.\n",
    "\n",
    "Follow the steps below to complete the exercise:\n",
    "\n",
    "1. Define a function named `initialize_inventory` that takes `products` as a parameter. Inside the function, implement the code for initializing the inventory dictionary using a loop and user input.\n",
    "\n",
    "2. Define a function named `get_customer_orders` that takes no parameters. Inside the function, implement the code for prompting the user to enter the product names using a loop. The function should return the `customer_orders` set.\n",
    "\n",
    "3. Define a function named `update_inventory` that takes `customer_orders` and `inventory` as parameters. Inside the function, implement the code for updating the inventory dictionary based on the customer orders.\n",
    "\n",
    "4. Define a function named `calculate_order_statistics` that takes `customer_orders` and `products` as parameters. Inside the function, implement the code for calculating the order statistics (total products ordered, and percentage of unique products ordered). The function should return these values.\n",
    "\n",
    "5. Define a function named `print_order_statistics` that takes `order_statistics` as a parameter. Inside the function, implement the code for printing the order statistics.\n",
    "\n",
    "6. Define a function named `print_updated_inventory` that takes `inventory` as a parameter. Inside the function, implement the code for printing the updated inventory.\n",
    "\n",
    "7. Call the functions in the appropriate sequence to execute the program and manage customer orders.\n",
    "\n",
    "Hints for functions:\n",
    "\n",
    "- Consider the input parameters required for each function and their return values.\n",
    "- Utilize function parameters and return values to transfer data between functions.\n",
    "- Test your functions individually to ensure they work correctly.\n",
    "\n",
    "\n"
   ]
  },
  {
   "cell_type": "code",
   "execution_count": 1,
   "id": "b86083e0",
   "metadata": {},
   "outputs": [],
   "source": [
    "inventory = {}"
   ]
  },
  {
   "cell_type": "code",
   "execution_count": 18,
   "id": "9da144aa",
   "metadata": {},
   "outputs": [
    {
     "name": "stdout",
     "output_type": "stream",
     "text": [
      "{'t-shirt': 5, 'mug': 5, 'hat': 5, 'book': 5, 'Keychain': 5}\n"
     ]
    }
   ],
   "source": [
    "def initialize_inventory(products = [\"t-shirt\", \"mug\", \"hat\", \"book\", \"Keychain\"]):\n",
    "    for product in products:\n",
    "        value = input(f'Añada la existencia del producto, {product}, que hay en el inventario o escriba \"exit\" para salir: ')\n",
    "        if value != 'exit':\n",
    "            inventory[product] = int(value)\n",
    "        else:\n",
    "            break\n",
    "\n",
    "initialize_inventory()\n",
    "\n",
    "print(inventory)\n"
   ]
  },
  {
   "cell_type": "code",
   "execution_count": 20,
   "id": "51c2d5b2",
   "metadata": {},
   "outputs": [
    {
     "data": {
      "text/plain": [
       "{'hat': 3, 't-shirt': 2, 'book': 1, 'mug': 4}"
      ]
     },
     "execution_count": 20,
     "metadata": {},
     "output_type": "execute_result"
    }
   ],
   "source": [
    "customers_orders = {}\n",
    "\n",
    "def get_customer_orders():\n",
    "    \n",
    "    while True:\n",
    "        key = input('Añada un predido o escriba \"exit\" para salir: ')\n",
    "        \n",
    "        if key != 'exit':\n",
    "            value = input('Ahora añada la cantidad del pedido o escriba \"exit\" para salir: ')\n",
    "            \n",
    "            if value != 'exit':\n",
    "                customers_orders[key] = int(value)\n",
    "            else:\n",
    "                break\n",
    "        \n",
    "        \n",
    "        else:\n",
    "            break\n",
    "\n",
    "    return customers_orders\n",
    "\n",
    "get_customer_orders()"
   ]
  },
  {
   "cell_type": "code",
   "execution_count": 21,
   "id": "10817797",
   "metadata": {},
   "outputs": [
    {
     "name": "stdout",
     "output_type": "stream",
     "text": [
      "hat 3\n",
      "t-shirt 2\n",
      "book 1\n",
      "mug 4\n",
      "{'t-shirt': 3, 'mug': 1, 'hat': 2, 'book': 3, 'Keychain': 5}\n"
     ]
    }
   ],
   "source": [
    "def update_inventory(dict1 = customers_orders, dict2 = inventory):\n",
    "    \n",
    "    for key, value in dict1.items():\n",
    "        \n",
    "        dict2[key] =  dict2[key] - value\n",
    "        #del dict1[key]\n",
    "\n",
    "        inventory = dict2\n",
    "\n",
    "\n",
    "\n",
    "update_inventory()\n",
    "\n",
    "print(inventory)"
   ]
  },
  {
   "cell_type": "code",
   "execution_count": 24,
   "id": "593b2461",
   "metadata": {},
   "outputs": [
    {
     "name": "stdout",
     "output_type": "stream",
     "text": [
      "(10, [10.0, 20.0, 30.0, 40.0])\n"
     ]
    }
   ],
   "source": [
    "list_total = list(customers_orders.values())\n",
    "list_total = [int(string) for string in list_total]\n",
    "\n",
    "\n",
    "\n",
    "def calculate_order_statistics(dict1 = customers_orders, products = list_total):\n",
    "\n",
    "    list_ordered = products\n",
    "    list_ordered.sort()\n",
    "    set_total = sum(products)\n",
    "\n",
    "    percentage_products = [(x / set_total) * 100 for x in list_ordered]\n",
    "\n",
    "    global order_statistic\n",
    "    order_statistic = (set_total, percentage_products)\n",
    "\n",
    "    return order_statistic\n",
    "\n",
    "\n",
    "\n",
    "calculate_order_statistics()    \n",
    "print(order_statistic)\n"
   ]
  },
  {
   "cell_type": "code",
   "execution_count": 29,
   "id": "eda21d6e",
   "metadata": {},
   "outputs": [
    {
     "name": "stdout",
     "output_type": "stream",
     "text": [
      "Order Statistics:\n",
      "Total Products Ordered: 10\n",
      "Percentage of Products Ordered: \n",
      "10.0 %\n",
      "20.0 %\n",
      "30.0 %\n",
      "40.0 %\n"
     ]
    }
   ],
   "source": [
    "def print_order_statistics(tuple1 = order_statistic):\n",
    "\n",
    "    print(f'Order Statistics:\\nTotal Products Ordered: {tuple1[0]}\\nPercentage of Products Ordered: ')\n",
    "\n",
    "    for i in range(len(tuple1[1])):\n",
    "        print(f'{round(tuple1[1][i], 2)} %')\n",
    "\n",
    "print_order_statistics()"
   ]
  },
  {
   "cell_type": "code",
   "execution_count": 31,
   "id": "ba256f2e",
   "metadata": {},
   "outputs": [
    {
     "name": "stdout",
     "output_type": "stream",
     "text": [
      "t-shirt: 3\n",
      "mug: 1\n",
      "hat: 2\n",
      "book: 3\n",
      "Keychain: 5\n"
     ]
    }
   ],
   "source": [
    "def print_updated_inventory(dict1 = inventory):\n",
    "\n",
    "    for x, y in dict1.items():\n",
    "        print(f'{x}: {y}')\n",
    "\n",
    "print_updated_inventory()"
   ]
  }
 ],
 "metadata": {
  "kernelspec": {
   "display_name": "Python 3 (ipykernel)",
   "language": "python",
   "name": "python3"
  },
  "language_info": {
   "codemirror_mode": {
    "name": "ipython",
    "version": 3
   },
   "file_extension": ".py",
   "mimetype": "text/x-python",
   "name": "python",
   "nbconvert_exporter": "python",
   "pygments_lexer": "ipython3",
   "version": "3.11.9"
  }
 },
 "nbformat": 4,
 "nbformat_minor": 5
}
